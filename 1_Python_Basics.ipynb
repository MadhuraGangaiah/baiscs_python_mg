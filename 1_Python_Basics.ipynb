{
 "cells": [
  {
   "cell_type": "markdown",
   "metadata": {
    "id": "WPaNpwcQ_ZAT"
   },
   "source": [
    "# Python Basics\n",
    "1. Variables\n",
    "1. Data types\n",
    "1. Basic Data types\n",
    "1. Python specific Data types (Sequence Data Types)"
   ]
  },
  {
   "cell_type": "markdown",
   "metadata": {
    "id": "nZ-4itZYs8l8"
   },
   "source": [
    "#1. Variables\n",
    "\n",
    "### Python as a Calculator - No Variables\n",
    "![p1.png](data:image/png;base64,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)"
   ]
  },
  {
   "cell_type": "code",
   "execution_count": 1,
   "metadata": {
    "colab": {
     "base_uri": "https://localhost:8080/"
    },
    "id": "rmV7yR_dtRSB",
    "outputId": "27b08b3b-7215-46d6-a3fc-aae3f781433f"
   },
   "outputs": [
    {
     "data": {
      "text/plain": [
       "5"
      ]
     },
     "execution_count": 1,
     "metadata": {},
     "output_type": "execute_result"
    }
   ],
   "source": [
    "2+3"
   ]
  },
  {
   "cell_type": "code",
   "execution_count": 2,
   "metadata": {
    "colab": {
     "base_uri": "https://localhost:8080/"
    },
    "id": "zTnqODziuZad",
    "outputId": "f3b37f52-0e20-4829-b62e-8b2c27394fc1"
   },
   "outputs": [
    {
     "data": {
      "text/plain": [
       "3"
      ]
     },
     "execution_count": 2,
     "metadata": {},
     "output_type": "execute_result"
    }
   ],
   "source": [
    "5-2"
   ]
  },
  {
   "cell_type": "code",
   "execution_count": 3,
   "metadata": {
    "colab": {
     "base_uri": "https://localhost:8080/"
    },
    "id": "KErzxp5Aubka",
    "outputId": "480f3c8e-9d20-4cc6-fc04-564ae7ae7093"
   },
   "outputs": [
    {
     "data": {
      "text/plain": [
       "6"
      ]
     },
     "execution_count": 3,
     "metadata": {},
     "output_type": "execute_result"
    }
   ],
   "source": [
    "3*2"
   ]
  },
  {
   "cell_type": "code",
   "execution_count": 9,
   "metadata": {
    "colab": {
     "base_uri": "https://localhost:8080/"
    },
    "id": "Zg7peDJdueii",
    "outputId": "40a19ba3-613b-48c4-c062-09be4f31c212"
   },
   "outputs": [
    {
     "data": {
      "text/plain": [
       "4"
      ]
     },
     "execution_count": 9,
     "metadata": {},
     "output_type": "execute_result"
    }
   ],
   "source": [
    "8/2"
   ]
  },
  {
   "cell_type": "code",
   "execution_count": 10,
   "metadata": {
    "colab": {
     "base_uri": "https://localhost:8080/"
    },
    "id": "juknR-X2uiTZ",
    "outputId": "c93baa4f-9bf1-428a-dc8b-d8c22c9b0c06"
   },
   "outputs": [
    {
     "data": {
      "text/plain": [
       "3"
      ]
     },
     "execution_count": 10,
     "metadata": {},
     "output_type": "execute_result"
    }
   ],
   "source": [
    "3%4"
   ]
  },
  {
   "cell_type": "markdown",
   "metadata": {
    "id": "spq3K3gNuuQ7"
   },
   "source": [
    "#1. Variables\n",
    "### Python as a Calculator - With Variables"
   ]
  },
  {
   "cell_type": "code",
   "execution_count": null,
   "metadata": {
    "colab": {
     "base_uri": "https://localhost:8080/"
    },
    "id": "LMqjS5EruzMl",
    "outputId": "645d56c0-a9fb-45ef-af42-014fc0e6c2f3"
   },
   "outputs": [
    {
     "data": {
      "text/plain": [
       "5"
      ]
     },
     "execution_count": 7,
     "metadata": {},
     "output_type": "execute_result"
    }
   ],
   "source": [
    "# 2+3\n",
    "a=2\n",
    "b=3\n",
    "a+b"
   ]
  },
  {
   "cell_type": "code",
   "execution_count": 7,
   "metadata": {
    "id": "Evm4Cg5RuzzS"
   },
   "outputs": [
    {
     "name": "stdout",
     "output_type": "stream",
     "text": [
      "6.75\n"
     ]
    }
   ],
   "source": [
    "#5-2\n",
    "\n",
    "p= 3*2\n",
    "\n",
    "q=3/4\n",
    "r=p+q\n",
    "print(r)\n",
    "\n"
   ]
  },
  {
   "cell_type": "markdown",
   "metadata": {
    "id": "ottGYUz9wC3i"
   },
   "source": [
    "## Variables on Text (String)"
   ]
  },
  {
   "cell_type": "code",
   "execution_count": 8,
   "metadata": {
    "colab": {
     "base_uri": "https://localhost:8080/",
     "height": 35
    },
    "id": "oXR7QA3eu0Fi",
    "outputId": "6b7c44a7-ea08-4e94-e98e-d475f86247f2"
   },
   "outputs": [
    {
     "data": {
      "text/plain": [
       "'IIIT Kottayam'"
      ]
     },
     "execution_count": 8,
     "metadata": {},
     "output_type": "execute_result"
    }
   ],
   "source": [
    "a='IIIT Kottayam'\n",
    "a"
   ]
  },
  {
   "cell_type": "code",
   "execution_count": 9,
   "metadata": {
    "colab": {
     "base_uri": "https://localhost:8080/",
     "height": 35
    },
    "id": "BgJ_jvYNvy4k",
    "outputId": "02b04d33-cf24-4e13-dc35-9972bb2b3693"
   },
   "outputs": [
    {
     "data": {
      "text/plain": [
       "'IIIT Kottayam'"
      ]
     },
     "execution_count": 9,
     "metadata": {},
     "output_type": "execute_result"
    }
   ],
   "source": [
    "institute=\"IIIT Kottayam\"\n",
    "institute"
   ]
  },
  {
   "cell_type": "markdown",
   "metadata": {
    "id": "10gDiE1WD7-y"
   },
   "source": [
    "### **1_Practice_Example:** Write the python code to store your name and age into variable **my_name** and **my_age** respectively."
   ]
  },
  {
   "cell_type": "code",
   "execution_count": 11,
   "metadata": {
    "id": "LA1PBorrxSG0"
   },
   "outputs": [
    {
     "name": "stdout",
     "output_type": "stream",
     "text": [
      "Madhura Gangaiah\n",
      "41\n"
     ]
    }
   ],
   "source": [
    "# Example-1\n",
    "# Type your code in the blank space\n",
    "# Store your name\n",
    "my_name=\"Madhura Gangaiah\"\n",
    "\n",
    "# Store your age\n",
    "\n",
    "my_age=41 \n",
    "print(my_name)\n",
    "print(my_age)"
   ]
  },
  {
   "cell_type": "markdown",
   "metadata": {
    "id": "7PQoVM5BFRnC"
   },
   "source": [
    "## **2. Python Input and Output**\n",
    "\n",
    "\n",
    "*   Input - **input()** \\\\\n",
    "*   Output - **print()**\n",
    "\n",
    "\n",
    "\n"
   ]
  },
  {
   "cell_type": "markdown",
   "metadata": {
    "id": "zUyzZCLaU_H6"
   },
   "source": [
    "#### **2.1 Python - output fucntion - print()**"
   ]
  },
  {
   "cell_type": "code",
   "execution_count": 14,
   "metadata": {
    "colab": {
     "base_uri": "https://localhost:8080/"
    },
    "id": "X182GWRvGpxB",
    "outputId": "5f9f738c-3688-4777-d2d9-15c10303f22b"
   },
   "outputs": [
    {
     "name": "stdout",
     "output_type": "stream",
     "text": [
      "AICTE-QIP-IIIT Kottayam\n"
     ]
    }
   ],
   "source": [
    "print('AICTE-QIP-IIIT Kottayam')"
   ]
  },
  {
   "cell_type": "code",
   "execution_count": 15,
   "metadata": {
    "colab": {
     "base_uri": "https://localhost:8080/"
    },
    "id": "wZYmzO8zF4Dh",
    "outputId": "e51cab89-1668-4bfe-ce38-1ee4b8303e30"
   },
   "outputs": [
    {
     "name": "stdout",
     "output_type": "stream",
     "text": [
      "5\n"
     ]
    }
   ],
   "source": [
    "print(5)"
   ]
  },
  {
   "cell_type": "code",
   "execution_count": 16,
   "metadata": {
    "colab": {
     "base_uri": "https://localhost:8080/"
    },
    "id": "rhsU8LbwMmYt",
    "outputId": "b017c7c3-b2d0-486b-d44a-42e07f5a63e8"
   },
   "outputs": [
    {
     "name": "stdout",
     "output_type": "stream",
     "text": [
      "IIIT Kottayam\n"
     ]
    }
   ],
   "source": [
    "institute=\"IIIT Kottayam\"\n",
    "print(institute)"
   ]
  },
  {
   "cell_type": "code",
   "execution_count": 17,
   "metadata": {
    "colab": {
     "base_uri": "https://localhost:8080/"
    },
    "id": "3B_lCtahMv0j",
    "outputId": "f71b228e-7859-4995-d3d1-1b56dc4d4b5d"
   },
   "outputs": [
    {
     "name": "stdout",
     "output_type": "stream",
     "text": [
      "My Institute name is  IIIT Kottayam\n"
     ]
    }
   ],
   "source": [
    "print('My Institute name is ', institute)"
   ]
  },
  {
   "cell_type": "markdown",
   "metadata": {
    "id": "3XZORhZoL6gi"
   },
   "source": [
    "### **2_Practice_Example:** Write the python code for the following.\n",
    "\n",
    "*   Store your name and age into variable **my_name** and **my_age**\n",
    "respectively.\n",
    "\n",
    "*   Print the name and age using **print** statement."
   ]
  },
  {
   "cell_type": "code",
   "execution_count": 18,
   "metadata": {
    "id": "hbwtxaxNLysT"
   },
   "outputs": [
    {
     "name": "stdout",
     "output_type": "stream",
     "text": [
      "My name is:  Madhura\n",
      "My age is:  41\n"
     ]
    }
   ],
   "source": [
    "# Example-2\n",
    "#Type your code here\n",
    "\n",
    "# Store your name\n",
    "my_name=\"Madhura\"\n",
    "\n",
    "# Store your age\n",
    "my_age= 41\n",
    "\n",
    "# Print your name\n",
    "print(\"My name is: \",my_name)\n",
    "\n",
    "# Print your age\n",
    "print(\"My age is: \",my_age)"
   ]
  },
  {
   "cell_type": "markdown",
   "metadata": {
    "id": "dRcJ10Qews9M"
   },
   "source": [
    "#### **2.2 Python - input fucntion - input()** - used to get data from the user. It will be considered **string datatype** even if you type any number."
   ]
  },
  {
   "cell_type": "code",
   "execution_count": 19,
   "metadata": {
    "colab": {
     "base_uri": "https://localhost:8080/"
    },
    "id": "ohkSwbUXydMR",
    "outputId": "2bdc9e44-1951-411b-e8cf-e54f3872e6fb"
   },
   "outputs": [
    {
     "name": "stdin",
     "output_type": "stream",
     "text": [
      " Rajesh\n"
     ]
    }
   ],
   "source": [
    "# Method-1\n",
    "# Taking input from the user\n",
    "name=input()"
   ]
  },
  {
   "cell_type": "code",
   "execution_count": 20,
   "metadata": {
    "colab": {
     "base_uri": "https://localhost:8080/"
    },
    "id": "neEtJr3HzjaX",
    "outputId": "1689c423-32e9-49d1-e090-49bb83fb9d39"
   },
   "outputs": [
    {
     "data": {
      "text/plain": [
       "str"
      ]
     },
     "execution_count": 20,
     "metadata": {},
     "output_type": "execute_result"
    }
   ],
   "source": [
    "type(name)"
   ]
  },
  {
   "cell_type": "code",
   "execution_count": 23,
   "metadata": {
    "colab": {
     "base_uri": "https://localhost:8080/"
    },
    "id": "2R5EBoY6zodO",
    "outputId": "f3a34d2c-e212-4889-f4fb-94da331cd1b7"
   },
   "outputs": [
    {
     "name": "stdin",
     "output_type": "stream",
     "text": [
      "Enter your name: Madhura \n"
     ]
    },
    {
     "name": "stdout",
     "output_type": "stream",
     "text": [
      "<class 'str'>\n"
     ]
    }
   ],
   "source": [
    "# Method-2\n",
    "# Taking input from the user\n",
    "name=input(\"Enter your name:\")\n",
    "print(type(name))"
   ]
  },
  {
   "cell_type": "markdown",
   "metadata": {
    "id": "OonrJk5f019X"
   },
   "source": [
    "### **3_Practice_Example:** Write the python code for the following.\n",
    "\n",
    "*   User enter your name and institution into variable **my_name** and **my_institute**\n",
    "respectively. (**Hint:** You must use **input()** fuction)\n",
    "\n",
    "*   Print the name and institution using **print** statement."
   ]
  },
  {
   "cell_type": "code",
   "execution_count": 24,
   "metadata": {
    "id": "JubuLHqL00YY"
   },
   "outputs": [
    {
     "name": "stdout",
     "output_type": "stream",
     "text": [
      "Madhura\n",
      "BGSCET\n"
     ]
    }
   ],
   "source": [
    "# Example-3\n",
    "# Type your code here\n",
    "\n",
    "# Enter your name\n",
    "my_name=\"Madhura\"\n",
    "\n",
    "# Enter your institute name\n",
    "my_institute=\"BGSCET\"\n",
    "\n",
    "# Print your name\n",
    "print(my_name)\n",
    "\n",
    "# Print your institute name\n",
    "print(my_institute)\n"
   ]
  },
  {
   "cell_type": "code",
   "execution_count": 30,
   "metadata": {
    "colab": {
     "base_uri": "https://localhost:8080/"
    },
    "id": "DT-TOHv70iMH",
    "outputId": "3cc02908-20e3-472a-bcc5-30cf8b1222af"
   },
   "outputs": [
    {
     "name": "stdin",
     "output_type": "stream",
     "text": [
      " ds\n"
     ]
    }
   ],
   "source": [
    "# Method-3 - To enter a number from the user\n",
    "age=input()"
   ]
  },
  {
   "cell_type": "code",
   "execution_count": 31,
   "metadata": {
    "colab": {
     "base_uri": "https://localhost:8080/"
    },
    "id": "-BLff37Y18MZ",
    "outputId": "b5c69bb4-25af-4c71-afef-061ed79676c9"
   },
   "outputs": [
    {
     "data": {
      "text/plain": [
       "str"
      ]
     },
     "execution_count": 31,
     "metadata": {},
     "output_type": "execute_result"
    }
   ],
   "source": [
    "type(age)"
   ]
  },
  {
   "cell_type": "code",
   "execution_count": 29,
   "metadata": {
    "colab": {
     "base_uri": "https://localhost:8080/"
    },
    "id": "smfuEX_nGjmE",
    "outputId": "585b3d54-da99-46f2-e5d1-a3b104f60dac"
   },
   "outputs": [
    {
     "name": "stdin",
     "output_type": "stream",
     "text": [
      " 2\n",
      " 3\n"
     ]
    },
    {
     "name": "stdout",
     "output_type": "stream",
     "text": [
      "<class 'int'>\n",
      "5\n"
     ]
    }
   ],
   "source": [
    "# Enter 2 numbers from the user at run time\n",
    "a=int(input())\n",
    "b=int(input())\n",
    "print(type(a))\n",
    "print(a+b)   # It performs string concatenation not number addition"
   ]
  },
  {
   "cell_type": "markdown",
   "metadata": {
    "id": "9LY-Og5cG5xm"
   },
   "source": [
    "## To convert string to number use the respective number data type (int, float, etc.,)"
   ]
  },
  {
   "cell_type": "code",
   "execution_count": 32,
   "metadata": {
    "colab": {
     "base_uri": "https://localhost:8080/"
    },
    "id": "QlD-eonBwsc-",
    "outputId": "06e5ad7f-3c13-438e-df1f-5537540534de"
   },
   "outputs": [
    {
     "name": "stdin",
     "output_type": "stream",
     "text": [
      " 32\n",
      " 23\n"
     ]
    },
    {
     "name": "stdout",
     "output_type": "stream",
     "text": [
      "<class 'int'>\n"
     ]
    }
   ],
   "source": [
    "# Enter 2 numbers from the user at run time and coverting to int data type\n",
    "a=int(input())\n",
    "b=int(input())\n",
    "print(type(a))"
   ]
  },
  {
   "cell_type": "code",
   "execution_count": 35,
   "metadata": {
    "colab": {
     "base_uri": "https://localhost:8080/"
    },
    "id": "wjyuYzqDGFqy",
    "outputId": "5b492d69-817f-48f2-ed78-37842b392234"
   },
   "outputs": [
    {
     "name": "stdin",
     "output_type": "stream",
     "text": [
      "enter num1 3\n",
      "enter num2 4\n"
     ]
    },
    {
     "name": "stdout",
     "output_type": "stream",
     "text": [
      "7\n"
     ]
    }
   ],
   "source": [
    "# Add the above two numbers\n",
    "# 32+43\n",
    "a=int(input(\"enter num1\"))\n",
    "b=int(input(\"enter num2\"))\n",
    "\n",
    "print(a+b)"
   ]
  },
  {
   "cell_type": "markdown",
   "metadata": {
    "id": "ao88pWTRINYd"
   },
   "source": [
    "### **4_Practice_Example:** Write the python code for the following.\n",
    "\n",
    "*  Enter the amount that you spend for breakfast, lunch and dinner on 29-06-2025. Assume **70, 140.5** and **90** rupees that you paid for the same. (**Hint**: Use **input()** function and coversion **datatype**)\n",
    "* Compute the total amount by **adding** the amount that you spent and store the result into a variable called **total_amount**.\n",
    "\n",
    "*   Print the total cost computed from the previous step using **print** statement."
   ]
  },
  {
   "cell_type": "code",
   "execution_count": 36,
   "metadata": {
    "id": "_r8Il4qELtXh"
   },
   "outputs": [
    {
     "name": "stdin",
     "output_type": "stream",
     "text": [
      "Enter the amount for breakfast= 124\n",
      "Enter the amount for lunch= 125\n",
      "Enter the amount for dinner= 200\n"
     ]
    },
    {
     "name": "stdout",
     "output_type": "stream",
     "text": [
      "total cost is 449\n"
     ]
    }
   ],
   "source": [
    "# Example-4\n",
    "# Type your code here\n",
    "\n",
    "# Enter the amount that you spend for breakfast, lunch and dinner.\n",
    "breakfast=int(input('Enter the amount for breakfast='))\n",
    "lunch=int(input('Enter the amount for lunch='))\n",
    "dinner=int(input('Enter the amount for dinner='))\n",
    "\n",
    "# Add the above amount\n",
    "total_amount=breakfast+lunch+dinner\n",
    "\n",
    "# Print the total cost\n",
    "print(\"total cost is\",total_amount)\n"
   ]
  },
  {
   "cell_type": "markdown",
   "metadata": {
    "id": "lz-2thWeHjym"
   },
   "source": [
    "## To convert string to number use the **eval()** funtion"
   ]
  },
  {
   "cell_type": "code",
   "execution_count": 39,
   "metadata": {
    "colab": {
     "base_uri": "https://localhost:8080/"
    },
    "id": "WzM5W9ChGEB1",
    "outputId": "5c276fef-2fc7-4c4d-a7aa-3c35ebb92394"
   },
   "outputs": [
    {
     "name": "stdin",
     "output_type": "stream",
     "text": [
      " madhura\n"
     ]
    },
    {
     "ename": "NameError",
     "evalue": "name 'madhura' is not defined",
     "output_type": "error",
     "traceback": [
      "\u001b[0;31m---------------------------------------------------------------------------\u001b[0m",
      "\u001b[0;31mNameError\u001b[0m                                 Traceback (most recent call last)",
      "\u001b[0;32m<ipython-input-39-dd807e492e66>\u001b[0m in \u001b[0;36m<module>\u001b[0;34m\u001b[0m\n\u001b[1;32m      1\u001b[0m \u001b[0;31m# Enter 2 numbers from the user at run time and coverting to int data type\u001b[0m\u001b[0;34m\u001b[0m\u001b[0;34m\u001b[0m\u001b[0;34m\u001b[0m\u001b[0m\n\u001b[0;32m----> 2\u001b[0;31m \u001b[0ma\u001b[0m\u001b[0;34m=\u001b[0m\u001b[0meval\u001b[0m\u001b[0;34m(\u001b[0m\u001b[0minput\u001b[0m\u001b[0;34m(\u001b[0m\u001b[0;34m)\u001b[0m\u001b[0;34m)\u001b[0m\u001b[0;34m\u001b[0m\u001b[0;34m\u001b[0m\u001b[0m\n\u001b[0m\u001b[1;32m      3\u001b[0m \u001b[0mb\u001b[0m\u001b[0;34m=\u001b[0m\u001b[0meval\u001b[0m\u001b[0;34m(\u001b[0m\u001b[0minput\u001b[0m\u001b[0;34m(\u001b[0m\u001b[0;34m)\u001b[0m\u001b[0;34m)\u001b[0m\u001b[0;34m\u001b[0m\u001b[0;34m\u001b[0m\u001b[0m\n\u001b[1;32m      4\u001b[0m \u001b[0mprint\u001b[0m\u001b[0;34m(\u001b[0m\u001b[0mtype\u001b[0m\u001b[0;34m(\u001b[0m\u001b[0ma\u001b[0m\u001b[0;34m)\u001b[0m\u001b[0;34m)\u001b[0m\u001b[0;34m\u001b[0m\u001b[0;34m\u001b[0m\u001b[0m\n\u001b[1;32m      5\u001b[0m \u001b[0mprint\u001b[0m\u001b[0;34m(\u001b[0m\u001b[0ma\u001b[0m\u001b[0;34m+\u001b[0m\u001b[0mb\u001b[0m\u001b[0;34m)\u001b[0m\u001b[0;34m\u001b[0m\u001b[0;34m\u001b[0m\u001b[0m\n",
      "\u001b[0;32m<string>\u001b[0m in \u001b[0;36m<module>\u001b[0;34m\u001b[0m\n",
      "\u001b[0;31mNameError\u001b[0m: name 'madhura' is not defined"
     ]
    }
   ],
   "source": [
    "# Enter 2 numbers from the user at run time and coverting to int data type\n",
    "a=eval(input())\n",
    "b=eval(input())\n",
    "print(type(a))\n",
    "print(a+b)"
   ]
  },
  {
   "cell_type": "markdown",
   "metadata": {
    "id": "-t0dNVO6RxwA"
   },
   "source": [
    "### **5_Practice_Example:** Write the python code for the following.\n",
    "\n",
    "*  Enter the amount that you spend for breakfast, lunch and dinner on 29-06-2025. Assume **70, 140.5** and **90** rupees that you paid for the same. (**Hint**: Use **input()** function and **eval()** function)\n",
    "* Compute the total amount by **adding** the amount that you spent and store the result into a variable called **total_amount**.\n",
    "\n",
    "*   Print the total cost computed from the previous step using **print** statement."
   ]
  },
  {
   "cell_type": "code",
   "execution_count": null,
   "metadata": {
    "id": "W8gHt4HZR74W"
   },
   "outputs": [],
   "source": [
    "# Example-5\n",
    "# Type your code here\n",
    "\n",
    "# Enter the amount that you spend for breakfast, lunch and dinner.\n",
    "breakfast=eval(input('Enter the amount for breakfast='))\n",
    "lunch=_____________\n",
    "dinner=_______________\n",
    "\n",
    "# Add the above amount\n",
    "total_amount=_____________\n",
    "\n",
    "# Print the total cost\n",
    "___________________"
   ]
  },
  {
   "cell_type": "markdown",
   "metadata": {
    "id": "9t3anNRXxYYr"
   },
   "source": [
    "## **2. Python Data Types**\n",
    "\n",
    "![image.png](data:image/png;base64,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)\n",
    "\n",
    "![image.png](data:image/png;base64,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)"
   ]
  },
  {
   "cell_type": "markdown",
   "metadata": {
    "id": "R6KZwXhdUqWB"
   },
   "source": [
    "### 2.1 Numeric data type - **int, float, complex** & 2.2 String data type - **string**"
   ]
  },
  {
   "cell_type": "code",
   "execution_count": 11,
   "metadata": {
    "colab": {
     "base_uri": "https://localhost:8080/"
    },
    "id": "m3nuI3u0UmXo",
    "outputId": "424a488d-7758-4932-adfe-a7413790e7d3"
   },
   "outputs": [
    {
     "name": "stdout",
     "output_type": "stream",
     "text": [
      "<class 'int'>\n",
      "<class 'float'>\n",
      "<class 'complex'>\n",
      "<class 'str'>\n"
     ]
    }
   ],
   "source": [
    "# Numeric data type\n",
    "x = 10\n",
    "print( type(x) )\n",
    "\n",
    "x = 10.5\n",
    "print( type(x) )\n",
    "\n",
    "x = 1 + 2j\n",
    "print( type(x) )\n",
    "\n",
    "x = \"Hello Python\"\n",
    "print( type(x) )"
   ]
  },
  {
   "cell_type": "markdown",
   "metadata": {
    "id": "DxeGSSgqVlj7"
   },
   "source": [
    "### 2.3 Boolean datatype"
   ]
  },
  {
   "cell_type": "code",
   "execution_count": 12,
   "metadata": {
    "colab": {
     "base_uri": "https://localhost:8080/"
    },
    "id": "c9W7d0AnVmnB",
    "outputId": "990c3890-40cd-4d91-a761-48c025ed235b"
   },
   "outputs": [
    {
     "name": "stdout",
     "output_type": "stream",
     "text": [
      "<class 'bool'>\n",
      "<class 'bool'>\n"
     ]
    }
   ],
   "source": [
    "#these both are 'booleans' or true/false values\n",
    "is_it_Monday = True\n",
    "is_it_Wednesday = False\n",
    "\n",
    "print(type(is_it_Monday))\n",
    "print(type(is_it_Wednesday))"
   ]
  },
  {
   "cell_type": "code",
   "execution_count": 1,
   "metadata": {
    "colab": {
     "base_uri": "https://localhost:8080/"
    },
    "id": "l7BiLUM-OzUR",
    "outputId": "0c9919e2-2f77-4360-9039-3511d88f4186"
   },
   "outputs": [
    {
     "name": "stdout",
     "output_type": "stream",
     "text": [
      "Address of a= 10760904\n",
      "Address of b= 132229269639504\n"
     ]
    }
   ],
   "source": [
    "# To know address of the variables\n",
    "a=100\n",
    "b=500\n",
    "print('Address of a=',id(a))\n",
    "print('Address of b=',id(b))"
   ]
  },
  {
   "cell_type": "code",
   "execution_count": 2,
   "metadata": {
    "colab": {
     "base_uri": "https://localhost:8080/"
    },
    "id": "3OtVOAvePt3Y",
    "outputId": "5e3c9ebf-77d3-4fbf-d715-85c6b8b79c52"
   },
   "outputs": [
    {
     "name": "stdout",
     "output_type": "stream",
     "text": [
      "Address of a= 10760904\n",
      "Address of b= 10760904\n"
     ]
    }
   ],
   "source": [
    "# To know address of the variables\n",
    "a=100\n",
    "b=100\n",
    "print('Address of a=',id(a))\n",
    "print('Address of b=',id(b))"
   ]
  },
  {
   "cell_type": "code",
   "execution_count": 4,
   "metadata": {},
   "outputs": [
    {
     "name": "stdin",
     "output_type": "stream",
     "text": [
      " 2\n",
      " 3\n"
     ]
    },
    {
     "name": "stdout",
     "output_type": "stream",
     "text": [
      "23\n",
      "5\n"
     ]
    }
   ],
   "source": [
    "a= input()\n",
    "b= input()\n",
    "\n",
    "c=int(a)\n",
    "d= int(b)\n",
    "y=a+b\n",
    "z=c+d\n",
    "print(y)\n",
    "print(z)"
   ]
  },
  {
   "cell_type": "code",
   "execution_count": 7,
   "metadata": {},
   "outputs": [
    {
     "name": "stdout",
     "output_type": "stream",
     "text": [
      "Liverpool versus Chelsea\n",
      "Final Score: 4 to 3\n"
     ]
    }
   ],
   "source": [
    "# Variable creation \n",
    "team1=\"Liverpool\"\n",
    "team2=\"Chelsea\"\n",
    "score1=4\n",
    "score2=3\n",
    "print(team1, \"versus\", team2)\n",
    "print(\"Final Score:\",score1, \"to\", score2)"
   ]
  },
  {
   "cell_type": "code",
   "execution_count": 9,
   "metadata": {},
   "outputs": [
    {
     "name": "stdin",
     "output_type": "stream",
     "text": [
      " Madhura\n"
     ]
    },
    {
     "name": "stdout",
     "output_type": "stream",
     "text": [
      "7\n"
     ]
    }
   ],
   "source": [
    "#len()\n",
    "\n",
    "arr=input()\n",
    "print(len(arr))"
   ]
  },
  {
   "cell_type": "code",
   "execution_count": 16,
   "metadata": {},
   "outputs": [
    {
     "name": "stdout",
     "output_type": "stream",
     "text": [
      "-3.141592653589793\n"
     ]
    }
   ],
   "source": [
    "import math\n",
    "s= -math.pi\n",
    "print(s)"
   ]
  },
  {
   "cell_type": "code",
   "execution_count": 17,
   "metadata": {},
   "outputs": [
    {
     "name": "stdout",
     "output_type": "stream",
     "text": [
      "9.6\n"
     ]
    }
   ],
   "source": [
    "s = 4+5.6\n",
    "print(s)"
   ]
  },
  {
   "cell_type": "code",
   "execution_count": 18,
   "metadata": {},
   "outputs": [
    {
     "data": {
      "text/plain": [
       "float"
      ]
     },
     "execution_count": 18,
     "metadata": {},
     "output_type": "execute_result"
    }
   ],
   "source": [
    "type(s)"
   ]
  },
  {
   "cell_type": "code",
   "execution_count": 20,
   "metadata": {},
   "outputs": [
    {
     "name": "stdout",
     "output_type": "stream",
     "text": [
      "9\n"
     ]
    }
   ],
   "source": [
    "d=int(s)\n",
    "print(d)"
   ]
  },
  {
   "cell_type": "code",
   "execution_count": 22,
   "metadata": {},
   "outputs": [
    {
     "name": "stdin",
     "output_type": "stream",
     "text": [
      " 4\n",
      " 4\n"
     ]
    },
    {
     "name": "stdout",
     "output_type": "stream",
     "text": [
      "about 2 are needed\n"
     ]
    }
   ],
   "source": [
    "people = int(input())\n",
    "slices = float(input())\n",
    "pizzas = int(people*slices/8)\n",
    "print(\"about\",pizzas,'are needed')"
   ]
  },
  {
   "cell_type": "code",
   "execution_count": 1,
   "metadata": {},
   "outputs": [
    {
     "name": "stdin",
     "output_type": "stream",
     "text": [
      " mad\n",
      " hura\n",
      " 3\n"
     ]
    },
    {
     "ename": "TypeError",
     "evalue": "can't multiply sequence by non-int of type 'str'",
     "output_type": "error",
     "traceback": [
      "\u001b[0;31m---------------------------------------------------------------------------\u001b[0m",
      "\u001b[0;31mTypeError\u001b[0m                                 Traceback (most recent call last)",
      "\u001b[0;32m<ipython-input-1-7f0e514b5e99>\u001b[0m in \u001b[0;36m<module>\u001b[0;34m\u001b[0m\n\u001b[1;32m      4\u001b[0m \u001b[0mcount\u001b[0m \u001b[0;34m=\u001b[0m \u001b[0;34m(\u001b[0m\u001b[0minput\u001b[0m\u001b[0;34m(\u001b[0m\u001b[0;34m)\u001b[0m\u001b[0;34m)\u001b[0m\u001b[0;34m\u001b[0m\u001b[0;34m\u001b[0m\u001b[0m\n\u001b[1;32m      5\u001b[0m \u001b[0mres\u001b[0m\u001b[0;34m=\u001b[0m \u001b[0mstr1\u001b[0m\u001b[0;34m+\u001b[0m\u001b[0;34m\"\"\u001b[0m\u001b[0;34m+\u001b[0m\u001b[0mstr2\u001b[0m\u001b[0;34m+\u001b[0m\u001b[0;34m\"\\n\"\u001b[0m\u001b[0;34m\u001b[0m\u001b[0;34m\u001b[0m\u001b[0m\n\u001b[0;32m----> 6\u001b[0;31m \u001b[0mprint\u001b[0m\u001b[0;34m(\u001b[0m\u001b[0mres\u001b[0m\u001b[0;34m*\u001b[0m\u001b[0mcount\u001b[0m\u001b[0;34m)\u001b[0m\u001b[0;34m\u001b[0m\u001b[0;34m\u001b[0m\u001b[0m\n\u001b[0m",
      "\u001b[0;31mTypeError\u001b[0m: can't multiply sequence by non-int of type 'str'"
     ]
    }
   ],
   "source": [
    "#print n times \n",
    "str1= input()\n",
    "str2= input()\n",
    "count = (input())\n",
    "res= str1+\"\"+str2+\"\\n\"\n",
    "print(res*count)"
   ]
  },
  {
   "cell_type": "code",
   "execution_count": 5,
   "metadata": {},
   "outputs": [
    {
     "name": "stdin",
     "output_type": "stream",
     "text": [
      " 8\n"
     ]
    },
    {
     "data": {
      "text/plain": [
       "40320"
      ]
     },
     "execution_count": 5,
     "metadata": {},
     "output_type": "execute_result"
    }
   ],
   "source": [
    "import math \n",
    "x= int(input())\n",
    "y=(math.factorial(x))\n",
    "y"
   ]
  },
  {
   "cell_type": "code",
   "execution_count": 8,
   "metadata": {},
   "outputs": [
    {
     "name": "stdin",
     "output_type": "stream",
     "text": [
      " 8\n",
      " 4\n"
     ]
    },
    {
     "name": "stdout",
     "output_type": "stream",
     "text": [
      "gcd of x,y 4\n"
     ]
    }
   ],
   "source": [
    "import math \n",
    "x= int(input())\n",
    "y=int(input())\n",
    "z=(math.gcd(x,y))\n",
    "print(\"gcd of x,y\" ,z)"
   ]
  },
  {
   "cell_type": "code",
   "execution_count": 10,
   "metadata": {},
   "outputs": [
    {
     "name": "stdin",
     "output_type": "stream",
     "text": [
      " 4\n",
      " 5\n",
      " 3\n",
      " 2\n"
     ]
    },
    {
     "name": "stdout",
     "output_type": "stream",
     "text": [
      "Eucledian distance 1.4142135623730951\n"
     ]
    }
   ],
   "source": [
    "import math \n",
    "x1= int(input())\n",
    "x2= int(input())\n",
    "y1=int(input())\n",
    "y2= int(input())\n",
    "z = math.sqrt((x2-x1)**2+(y2-y1)**2)\n",
    "print(\"Eucledian distance\" ,z)"
   ]
  },
  {
   "cell_type": "code",
   "execution_count": 3,
   "metadata": {},
   "outputs": [
    {
     "name": "stdin",
     "output_type": "stream",
     "text": [
      "enter radius of cyliner: 1\n",
      "enter height of cyliner: 2\n"
     ]
    },
    {
     "name": "stdout",
     "output_type": "stream",
     "text": [
      "area of cylinder 18.84955592153876\n",
      "volume of cylinder 6.283185307179586\n"
     ]
    }
   ],
   "source": [
    "#area and volume of cylinder\n",
    "import math \n",
    "r= int(input(\"enter radius of cyliner:\"))\n",
    "h= int(input(\"enter height of cyliner:\"))\n",
    "r1= math.tau\n",
    "A=(r1*r*h+r1*r**2)\n",
    "V= math.pi*r**2*h\n",
    "print(\"area of cylinder\", A)\n",
    "print(\"volume of cylinder\", V)"
   ]
  },
  {
   "cell_type": "code",
   "execution_count": 6,
   "metadata": {},
   "outputs": [
    {
     "name": "stdin",
     "output_type": "stream",
     "text": [
      " 4\n",
      " 5\n"
     ]
    },
    {
     "name": "stdout",
     "output_type": "stream",
     "text": [
      "a is the smallest\n"
     ]
    }
   ],
   "source": [
    "#find largest of two numbers \n",
    "a=int(input())\n",
    "b=int(input())\n",
    "if(a>b):\n",
    "    print(\"a is the largest\")\n",
    "else:\n",
    "    print(\"a is the smallest\")\n",
    "    "
   ]
  },
  {
   "cell_type": "code",
   "execution_count": 13,
   "metadata": {},
   "outputs": [
    {
     "name": "stdin",
     "output_type": "stream",
     "text": [
      " 7\n",
      " 5\n",
      " 4\n"
     ]
    },
    {
     "name": "stdout",
     "output_type": "stream",
     "text": [
      "a is the largest\n"
     ]
    }
   ],
   "source": [
    "#find largest of 3 numbers \n",
    "a=int(input())\n",
    "b=int(input())\n",
    "c=int(input())\n",
    "if(a>=b and a>=c):\n",
    "    print(\"a is the largest\")\n",
    "elif(b>=c):\n",
    "    print(\"b is the largest\")\n",
    "else:\n",
    "    print(\"c is the largest\")"
   ]
  },
  {
   "cell_type": "code",
   "execution_count": 14,
   "metadata": {},
   "outputs": [
    {
     "name": "stdin",
     "output_type": "stream",
     "text": [
      "Enter first number:  12\n",
      "Enter second number:  8\n",
      "Enter third number:  4\n"
     ]
    },
    {
     "name": "stdout",
     "output_type": "stream",
     "text": [
      "The largest number is: 12.0\n"
     ]
    }
   ],
   "source": [
    "a = float(input(\"Enter first number: \"))\n",
    "b = float(input(\"Enter second number: \"))\n",
    "c = float(input(\"Enter third number: \"))\n",
    "\n",
    "# Find the largest using ternary operators\n",
    "largest = a if (a > b and a > c) else (b if b > c else c)\n",
    "\n",
    "# Output the result\n",
    "print(\"The largest number is:\", largest)"
   ]
  },
  {
   "cell_type": "code",
   "execution_count": 28,
   "metadata": {},
   "outputs": [
    {
     "name": "stdin",
     "output_type": "stream",
     "text": [
      "Enter a number:  -9\n"
     ]
    },
    {
     "name": "stdout",
     "output_type": "stream",
     "text": [
      "The number is negative.\n"
     ]
    }
   ],
   "source": [
    "#find the number is positive or negative \n",
    "num = float(input(\"Enter a number: \"))\n",
    "\n",
    "# Using nested if to check sign\n",
    "if num != 0:\n",
    "    if num > 0:\n",
    "        print(\"The number is positive.\")\n",
    "    else:\n",
    "        print(\"The number is negative.\")\n",
    "else:\n",
    "    print(\"The number is zero.\")\n",
    "            \n",
    "        "
   ]
  },
  {
   "cell_type": "code",
   "execution_count": null,
   "metadata": {},
   "outputs": [],
   "source": []
  }
 ],
 "metadata": {
  "colab": {
   "provenance": []
  },
  "kernelspec": {
   "display_name": "Python 3",
   "language": "python",
   "name": "python3"
  },
  "language_info": {
   "codemirror_mode": {
    "name": "ipython",
    "version": 3
   },
   "file_extension": ".py",
   "mimetype": "text/x-python",
   "name": "python",
   "nbconvert_exporter": "python",
   "pygments_lexer": "ipython3",
   "version": "3.7.6"
  }
 },
 "nbformat": 4,
 "nbformat_minor": 4
}
